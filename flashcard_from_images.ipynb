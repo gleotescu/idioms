{
 "cells": [
  {
   "cell_type": "code",
   "execution_count": 27,
   "metadata": {
    "ExecuteTime": {
     "end_time": "2018-11-27T12:57:54.159037Z",
     "start_time": "2018-11-27T12:57:54.143368Z"
    }
   },
   "outputs": [],
   "source": [
    "from google.cloud import texttospeech\n",
    "\n",
    "# Instantiates a client\n",
    "client = texttospeech.TextToSpeechClient()\n",
    "\n",
    "# Build the voice request, select the language code (\"en-US\") and the ssml\n",
    "# voice gender (\"neutral\")\n",
    "voice = texttospeech.types.VoiceSelectionParams(\n",
    "    language_code='en-US', \n",
    "    ssml_gender=texttospeech.enums.SsmlVoiceGender.NEUTRAL, name='en-US-Wavenet-D')\n",
    "\n",
    "# Select the type of audio file you want returned\n",
    "audio_config = texttospeech.types.AudioConfig(\n",
    "    audio_encoding=texttospeech.enums.AudioEncoding.MP3)\n",
    "\n",
    "def get_pronounciation(word, word_id):\n",
    "    # Set the text input to be synthesized\n",
    "    synthesis_input = texttospeech.types.SynthesisInput(text=word)\n",
    "    # Perform the text-to-speech request on the text input with the selected\n",
    "    # voice parameters and audio file type\n",
    "    response = client.synthesize_speech(synthesis_input, voice, audio_config)\n",
    "    outfile = os.path.join(outdir, word_id + '.mp3')\n",
    "    # The response's audio_content is binary.\n",
    "    with open(outfile, 'wb') as out:\n",
    "        # Write the response to the output file.\n",
    "        out.write(response.audio_content)\n",
    "    return os.path.basename(outfile)"
   ]
  },
  {
   "cell_type": "code",
   "execution_count": 61,
   "metadata": {
    "ExecuteTime": {
     "end_time": "2018-11-27T16:47:38.342878Z",
     "start_time": "2018-11-27T16:47:38.326150Z"
    }
   },
   "outputs": [
    {
     "name": "stdout",
     "output_type": "stream",
     "text": [
      "media data in:  media_dir text data in:  text_dir\n",
      "\n"
     ]
    }
   ],
   "source": [
    "import os\n",
    "deck = 'idioms'\n",
    "indir  = 'idioms2'\n",
    "outdir = 'media_dir'\n",
    "textdir = 'text_dir'\n",
    "os.makedirs(outdir, exist_ok=True)\n",
    "os.makedirs(textdir, exist_ok=True)\n",
    "separator = '\\n\\n################################\\n\\n'\n",
    "print('media data in: ', outdir, 'text data in: ', textdir)\n",
    "print('')"
   ]
  },
  {
   "cell_type": "code",
   "execution_count": 62,
   "metadata": {
    "ExecuteTime": {
     "end_time": "2018-11-27T16:51:31.895639Z",
     "start_time": "2018-11-27T16:48:26.948197Z"
    },
    "code_folding": [
     14,
     25,
     86,
     92,
     104,
     141
    ],
    "scrolled": false
   },
   "outputs": [
    {
     "name": "stdout",
     "output_type": "stream",
     "text": [
      "48\n",
      "idioms_a_penny_for_your_thoughts\n",
      "[Get card examples], Invalid status code:  -speak 404\n",
      "idioms_actions_speak_louder_than_words\n",
      "idioms_beat_around_the_bush\n",
      "idioms_bite_off_more_than_you_can_chew\n",
      "idioms_blow_off_steam\n",
      "idioms_break_a_leg\n",
      "idioms_break_the_ice\n",
      "idioms_by_the_skin_of_teeth\n",
      "idioms_comparing_apples_to_oranges\n",
      "idioms_cram\n",
      "idioms_don't_cry_over_spilt_milk\n",
      "idioms_down_to_earth\n",
      "idioms_feeling_blue;_have_the_blues\n",
      "idioms_going_dutch\n",
      "idioms_he_has_bigger_fish_to_fry\n",
      "idioms_he's_a_chip_off_the_old_block\n",
      "idioms_head_over_heels\n",
      "idioms_hit_the_sack\n",
      "idioms_jack_up_the_prices\n",
      "idioms_miss_the_boat\n",
      "idioms_pass_the_buck\n",
      "idioms_pig_out\n",
      "idioms_plead_the_fifth\n",
      "idioms_put_something_on_ice\n",
      "idioms_take_the_wind_out_of_your_sails\n",
      "[Get card examples], Invalid status code:  cold shoulder 404\n",
      "idioms_the_cold_shoulder\n",
      "[Get card examples], Invalid status code:  well-begun 404\n",
      "idioms_well_begun_is_half_done\n",
      "idioms_wrap_(something)_up\n",
      "idioms_wrap_your_head_around_something\n",
      "idioms_you_can't_judge_a_book_by_its_cover\n",
      "idioms_barking_up_the_wrong_tree\n",
      "idioms_burn_your_bridges\n",
      "idioms_cat-nap\n",
      "idioms_every_cloud_has_a_silver_lining\n",
      "idioms_get_one's_foot_in_the_door\n",
      "[Get card examples], Invalid status code:  fine-toothed 404\n",
      "idioms_go_over_something_with_a_fine_toothed_comb\n",
      "idioms_hindsight\n",
      "idioms_it_takes_two_to_tango\n",
      "idioms_oblivious\n",
      "[Get card examples], Invalid status code:  once in a blue moon 404\n",
      "idioms_once_ina_blue_moon\n",
      "idioms_piggyback\n",
      "idioms_put_in_the_long_hours\n",
      "idioms_the_world_is_your_oyster\n",
      "idioms_two's_company_three's_a_crowd\n",
      "idioms_vairety_is_the_spice_of_life\n",
      "idioms_water_under_the_bridge\n",
      "idioms_wear_your_heart_on_your_sleeve\n",
      "idioms_what_goes_around_comes_around\n"
     ]
    }
   ],
   "source": [
    "import requests\n",
    "import json\n",
    "import glob\n",
    "import cv2\n",
    "import shutil\n",
    "import os\n",
    "\n",
    "base_url = 'https://od-api.oxforddictionaries.com/api/v1'\n",
    "app_id = '88b408cd'\n",
    "app_key = '8c3ae542c22acf7770e5f7cf67b84bf9'\n",
    "language = 'en'\n",
    "region='us'\n",
    "trouble = []\n",
    "\n",
    "def get_headword(word):\n",
    "    url = 'https://od-api.oxforddictionaries.com:443/api/v1/search/' + language + '?q=' + word.lower() + '&prefix=false' + '&regions=' + region\n",
    "    r = requests.get(url, headers = {'app_id': app_id, 'app_key': app_key})\n",
    "    if r.status_code != 200:\n",
    "        print('[Get headword] Invalid status code: ', word, r.status_code)\n",
    "        return None\n",
    "    for entry in r.json()['results']:\n",
    "        if entry['region'] == 'us':\n",
    "            return entry\n",
    "    return None\n",
    "\n",
    "def get_word_info(word_id):\n",
    "    url = 'https://od-api.oxforddictionaries.com:443/api/v1/entries/' \n",
    "    url += language + '/' + word_id.lower() + '/regions=' + region \n",
    "    r = requests.get(url, headers = {'app_id': app_id, 'app_key': app_key})\n",
    "    if r.status_code != 200:\n",
    "        print('[Get word info], Invalid status code: ', word_id, r.status_code)\n",
    "        return None\n",
    "    return r.json()\n",
    "    \n",
    "def get_card_meaning(word, card_id):\n",
    "    res = {'card_id' : card_id, 'match_word' : word, 'word' : word, 'senses' : [], 'examples' : [],\n",
    "           'pronounciation' : None, 'image' : None, 'headword' : None, 'ipa' : ''}\n",
    "    \n",
    "    entry = get_headword(word)\n",
    "    if entry is None:\n",
    "        return res\n",
    "    \n",
    "    headword = entry['id']\n",
    "    res['headword'] = headword\n",
    "    res['word'] = entry['word']\n",
    "    info = get_word_info(headword)\n",
    "    if info is None:\n",
    "        return res\n",
    "    \n",
    "    entry = info['results'][0]['lexicalEntries'][0]\n",
    "    senses = entry['entries'][0]['senses']\n",
    "    \n",
    "    if 'pronunciations' in entry.keys():\n",
    "        pronounciations = entry['pronunciations']\n",
    "        for p in pronounciations:\n",
    "            if 'audioFile' in p.keys() and 'dialects' in p.keys() and 'American English' in p['dialects']:\n",
    "                res['pronounciation'] = p['audioFile']\n",
    "            if 'phoneticNotation' in p.keys() and 'IPA' in p['phoneticNotation']:\n",
    "                if 'phoneticSpelling' in p.keys():\n",
    "                    res['ipa'] = p['phoneticSpelling']\n",
    "    def get_examples(sense):\n",
    "        if 'examples' in sense.keys():\n",
    "            return [e['text'] for e in sense['examples']]\n",
    "        else:\n",
    "            examples = []\n",
    "            if 'subsenses' not in sense.keys():\n",
    "                return examples\n",
    "            for subsense in sense['subsenses']:\n",
    "                if 'examples' in subsense:\n",
    "                    examples = examples + [e['text'] for e in subsense['examples']]\n",
    "            return examples\n",
    "    def get_definitions(sense):\n",
    "        if 'short_definitions' in sense:\n",
    "            return sense['short_definitions'][0]\n",
    "        else:\n",
    "            return sense['definitions'][0]\n",
    "    \n",
    "    res['senses'] = [get_definitions(sense) for sense in senses]\n",
    "    example_sets = [get_examples(sense) for sense in senses]\n",
    "    res['examples'] = [e for s in example_sets for e in s]\n",
    "    \n",
    "    import time\n",
    "    time.sleep(2)\n",
    "    \n",
    "    return res\n",
    "\n",
    "def add_card_pronounciation(card):\n",
    "    if card['pronounciation'] is not None:\n",
    "        return card\n",
    "    card['pronounciation'] = get_pronounciation(card['word'], card['card_id'] + '_wpron')\n",
    "    return card\n",
    "\n",
    "def add_card_image(card):\n",
    "    if card['image'] is not None:\n",
    "        return card\n",
    "    for img in imgs:\n",
    "        imgid = os.path.basename(img).split('.')[0].strip().lower()\n",
    "        if card['match_word'] == imgid:\n",
    "            imgfile = imgid + img[img.rfind('.')-1:]\n",
    "            shutil.copy(img, os.path.join(outdir, imgfile))\n",
    "            card['image'] = imgfile\n",
    "            break\n",
    "    return card\n",
    "\n",
    "def add_card_examples(card):\n",
    "    word_id = card['word']\n",
    "    url = 'https://od-api.oxforddictionaries.com:443/api/v1/entries/' \n",
    "    url += language + '/' + word_id.lower() + '/sentences'\n",
    "    r = requests.get(url, headers = {'app_id': app_id, 'app_key': app_key})\n",
    "    if r.status_code != 200:\n",
    "        print('[Get card examples], Invalid status code: ', word_id, r.status_code)\n",
    "        return card   \n",
    "    sentences = r.json()['results'][0]['lexicalEntries'][0]['sentences']\n",
    "    def check_part_of_list(item, l):\n",
    "        for e in l:\n",
    "            if item in e:\n",
    "                return True\n",
    "        return False    \n",
    "    \n",
    "    examples = []\n",
    "    for sent in sentences:\n",
    "        if not check_part_of_list('American', sent['regions']):\n",
    "            continue\n",
    "        examples.append(sent['text'])\n",
    "    for sent in sentences:\n",
    "        if check_part_of_list('American', sent['regions']):\n",
    "            continue\n",
    "        examples.append('(GB) ' + sent['text'])\n",
    "    card['examples'] = card['examples'] + examples[:10]\n",
    "    \n",
    "    return card\n",
    "\n",
    "imgs = []\n",
    "extensions = ['.jpg', '.png', '.jpeg']\n",
    "for ext in extensions:\n",
    "    imgs = imgs + glob.glob(os.path.join(indir, '*' + ext))\n",
    "imgs = sorted(imgs, key=lambda e : os.path.basename(e))\n",
    "print(len(imgs))\n",
    "\n",
    "deck_final_file = deck + '_final.txt'\n",
    "old_ids = set()\n",
    "if os.path.isfile(deck_final_file):\n",
    "    with open(deck_final_file) as f:\n",
    "        deck_data = [json.loads(s) for s in f.read().split(separator)]\n",
    "    old_ids = set([card['card_id'] for card in deck_data])\n",
    "\n",
    "outfile = os.path.join(textdir, deck + indir + '_metadata.txt')\n",
    "outfile = open(outfile, 'w')\n",
    "for img in imgs:\n",
    "    imgname = os.path.basename(img)\n",
    "    word = imgname.split('.')[0].strip().lower()\n",
    "    card_id = deck + '_' + '_'.join(word.strip().lower().split(' '))   \n",
    "    if card_id in old_ids:\n",
    "        print('OLDER CARD: ', card_id)\n",
    "        continue\n",
    "        \n",
    "    card = get_card_meaning(word, card_id)\n",
    "    card = add_card_pronounciation(card)\n",
    "    card = add_card_image(card)\n",
    "    card = add_card_examples(card)\n",
    "    out = json.dumps(card, indent=2, sort_keys=True) + separator\n",
    "    outfile.write(out)\n",
    "    print(card['card_id'])\n",
    "#     print(out)\n",
    "outfile.close()\n",
    "\n",
    "## check trouble cards\n",
    "## search for examples\n",
    "## skip processed"
   ]
  },
  {
   "cell_type": "code",
   "execution_count": 47,
   "metadata": {
    "ExecuteTime": {
     "end_time": "2018-11-27T13:24:41.157894Z",
     "start_time": "2018-11-27T13:24:40.854376Z"
    },
    "code_folding": [
     14,
     37,
     87
    ],
    "scrolled": true
   },
   "outputs": [
    {
     "name": "stdout",
     "output_type": "stream",
     "text": [
      "WORD\n"
     ]
    },
    {
     "data": {
      "application/vnd.jupyter.widget-view+json": {
       "model_id": "2ba0a3ffc49d4f57b2d04c6a47acdc13",
       "version_major": 2,
       "version_minor": 0
      },
      "text/plain": [
       "Text(value='animosity')"
      ]
     },
     "metadata": {},
     "output_type": "display_data"
    },
    {
     "name": "stdout",
     "output_type": "stream",
     "text": [
      "SENSES\n"
     ]
    },
    {
     "data": {
      "application/vnd.jupyter.widget-view+json": {
       "model_id": "9ce68cbdf7914ba2b9ca2d6db2ac4769",
       "version_major": 2,
       "version_minor": 0
      },
      "text/plain": [
       "HBox(children=(Textarea(value='strong hostility'), Button(description='clear', icon='check', layout=Layout(hei…"
      ]
     },
     "metadata": {},
     "output_type": "display_data"
    },
    {
     "name": "stdout",
     "output_type": "stream",
     "text": [
      "EXAMPLES\n"
     ]
    },
    {
     "data": {
      "application/vnd.jupyter.widget-view+json": {
       "model_id": "8d8774b07050491cafcc19475cf4d508",
       "version_major": 2,
       "version_minor": 0
      },
      "text/plain": [
       "HBox(children=(Textarea(value='he no longer felt any animosity toward her'), Button(description='clear', icon=…"
      ]
     },
     "metadata": {},
     "output_type": "display_data"
    },
    {
     "data": {
      "application/vnd.jupyter.widget-view+json": {
       "model_id": "19b00f819d184a35a1f271f9d110a94b",
       "version_major": 2,
       "version_minor": 0
      },
      "text/plain": [
       "HBox(children=(Textarea(value='the animosity between the king and his brother'), Button(description='clear', i…"
      ]
     },
     "metadata": {},
     "output_type": "display_data"
    },
    {
     "data": {
      "application/vnd.jupyter.widget-view+json": {
       "model_id": "3452e637e4f14466b3f2f3b84f7e7c25",
       "version_major": 2,
       "version_minor": 0
      },
      "text/plain": [
       "HBox(children=(Textarea(value='the five decided to put aside their animosities'), Button(description='clear', …"
      ]
     },
     "metadata": {},
     "output_type": "display_data"
    },
    {
     "data": {
      "application/vnd.jupyter.widget-view+json": {
       "model_id": "1ab56255babd48b988d9231ec1d330e1",
       "version_major": 2,
       "version_minor": 0
      },
      "text/plain": [
       "HBox(children=(Textarea(value='(GB) To feel animosity for the country as he defines it would indeed be an indi…"
      ]
     },
     "metadata": {},
     "output_type": "display_data"
    },
    {
     "data": {
      "application/vnd.jupyter.widget-view+json": {
       "model_id": "13522193d2ac42e88fa153b329deb6c0",
       "version_major": 2,
       "version_minor": 0
      },
      "text/plain": [
       "HBox(children=(Textarea(value='(GB) Yet in spite of this long animosity, Confucianism and Buddhism unite in re…"
      ]
     },
     "metadata": {},
     "output_type": "display_data"
    },
    {
     "data": {
      "application/vnd.jupyter.widget-view+json": {
       "model_id": "60bed8c396a94703bd9430a34dfc319a",
       "version_major": 2,
       "version_minor": 0
      },
      "text/plain": [
       "HBox(children=(Textarea(value='(GB) Cynics argue that the space race was merely an expression of cold-war anim…"
      ]
     },
     "metadata": {},
     "output_type": "display_data"
    },
    {
     "data": {
      "application/vnd.jupyter.widget-view+json": {
       "model_id": "6302658de0444b6d9be2b38a66d001e6",
       "version_major": 2,
       "version_minor": 0
      },
      "text/plain": [
       "HBox(children=(Textarea(value='(GB) Pam says the people are lovely and you encounter very little public animos…"
      ]
     },
     "metadata": {},
     "output_type": "display_data"
    },
    {
     "data": {
      "application/vnd.jupyter.widget-view+json": {
       "model_id": "893e3bb7e5164914b9aee7e3bb752862",
       "version_major": 2,
       "version_minor": 0
      },
      "text/plain": [
       "HBox(children=(Textarea(value='(GB) He is a gentleman and while we were on opposite sides, there was no animos…"
      ]
     },
     "metadata": {},
     "output_type": "display_data"
    },
    {
     "data": {
      "application/vnd.jupyter.widget-view+json": {
       "model_id": "c7998e2118134a748901c665ad8d3ef0",
       "version_major": 2,
       "version_minor": 0
      },
      "text/plain": [
       "HBox(children=(Textarea(value='(GB) Wilful misinterpretation of the law has bred animosity and resentment towa…"
      ]
     },
     "metadata": {},
     "output_type": "display_data"
    },
    {
     "data": {
      "application/vnd.jupyter.widget-view+json": {
       "model_id": "98a0e777796a4b6694f8a3aa33b360d4",
       "version_major": 2,
       "version_minor": 0
      },
      "text/plain": [
       "HBox(children=(Textarea(value='(GB) There is strong animosity between the two groups and each has its own cult…"
      ]
     },
     "metadata": {},
     "output_type": "display_data"
    },
    {
     "data": {
      "application/vnd.jupyter.widget-view+json": {
       "model_id": "9ad728cb83474e2aaac81c98e221a8d5",
       "version_major": 2,
       "version_minor": 0
      },
      "text/plain": [
       "HBox(children=(Textarea(value='(GB) The animosity at the time was directed at the principle, rather than the p…"
      ]
     },
     "metadata": {},
     "output_type": "display_data"
    },
    {
     "data": {
      "application/vnd.jupyter.widget-view+json": {
       "model_id": "e1d05180bf704ff5b7c980b231e3b137",
       "version_major": 2,
       "version_minor": 0
      },
      "text/plain": [
       "HBox(children=(Textarea(value='(GB) She said she bore no animosity towards her stepson Gordon for what had hap…"
      ]
     },
     "metadata": {},
     "output_type": "display_data"
    },
    {
     "data": {
      "application/vnd.jupyter.widget-view+json": {
       "model_id": "cf6607f79236433f8d633a22c1b06b73",
       "version_major": 2,
       "version_minor": 0
      },
      "text/plain": [
       "HBox(children=(Textarea(value='(GB) But there is pressure for him to step aside now to clear the air of animos…"
      ]
     },
     "metadata": {},
     "output_type": "display_data"
    },
    {
     "name": "stdout",
     "output_type": "stream",
     "text": [
      "IMAGE\n"
     ]
    },
    {
     "data": {
      "application/vnd.jupyter.widget-view+json": {
       "model_id": "110b17457b194f8483e1cb68350b016a",
       "version_major": 2,
       "version_minor": 0
      },
      "text/plain": [
       "Text(value='animosityy.jpg')"
      ]
     },
     "metadata": {},
     "output_type": "display_data"
    },
    {
     "data": {
      "application/vnd.jupyter.widget-view+json": {
       "model_id": "294ac374b37d4421accfe21cad30799c",
       "version_major": 2,
       "version_minor": 0
      },
      "text/plain": [
       "Image(value=b'\\xff\\xd8\\xff\\xe0\\x00\\x10JFIF\\x00\\x01\\x01\\x00\\x00\\x01\\x00\\x01\\x00\\x00\\xff\\xfe\\x00;CREATOR: gd-jpe…"
      ]
     },
     "metadata": {},
     "output_type": "display_data"
    },
    {
     "name": "stdout",
     "output_type": "stream",
     "text": [
      "SOUND\n"
     ]
    },
    {
     "data": {
      "application/vnd.jupyter.widget-view+json": {
       "model_id": "1b0d2ed021eb4c7e9dbd8e5bf1c97f4c",
       "version_major": 2,
       "version_minor": 0
      },
      "text/plain": [
       "Text(value='http://audio.oxforddictionaries.com/en/mp3/animosity_us_1.mp3')"
      ]
     },
     "metadata": {},
     "output_type": "display_data"
    },
    {
     "name": "stdout",
     "output_type": "stream",
     "text": [
      "url? media_dir/http://audio.oxforddictionaries.com/en/mp3/animosity_us_1.mp3\n"
     ]
    },
    {
     "data": {
      "application/vnd.jupyter.widget-view+json": {
       "model_id": "644dad8c914245c58311c96e45051296",
       "version_major": 2,
       "version_minor": 0
      },
      "text/plain": [
       "HBox(children=(Button(button_style='warning', description='SKIP', icon='check', layout=Layout(height='50px', w…"
      ]
     },
     "metadata": {},
     "output_type": "display_data"
    }
   ],
   "source": [
    "from ipywidgets import widgets\n",
    "import os\n",
    "import IPython.display as ipd\n",
    "\n",
    "# outdir = 'idioms2_data/'\n",
    "# deck = 'idioms'\n",
    "\n",
    "infile = os.path.join(textdir, deck + indir + '_metadata.txt')\n",
    "trouble_file = os.path.join(textdir, deck + indir + '_trouble.txt')\n",
    "update_file = os.path.join(textdir, deck + indir + '_update.txt')\n",
    "deck_final_file = deck + '_final.txt'\n",
    "separator = '\\n\\n################################\\n\\n'\n",
    "\n",
    "for f in [update_file, trouble_file]\n",
    "    f = open(f, 'w')\n",
    "    f.close()\n",
    "    \n",
    "old_ids = {}\n",
    "if os.path.isfile(deck_final_file):\n",
    "    with open(deck_final_file) as f:\n",
    "        deck_data = [json.loads(s) for s in f.read().split(separator) if len(s) > 0]\n",
    "    old_ids = set([card['card_id'] for card in deck_data]) \n",
    "if os.path.isfile(trouble_file):\n",
    "    with open(trouble_file) as f:\n",
    "        deck_data = [json.loads(s) for s in f.read().split(separator) if len(s) > 0]\n",
    "    old_ids.update([card['card_id'] for card in deck_data])    \n",
    "    \n",
    "cards = []\n",
    "with open(infile) as f:\n",
    "    data = f.read()\n",
    "    card_strings = data.split(separator)\n",
    "    \n",
    "    for card_string in card_strings:\n",
    "        if len(card_string) == 0:\n",
    "            continue\n",
    "        card = json.loads(card_string)\n",
    "        if card['card_id'] in old_ids:\n",
    "            continue\n",
    "        cards.append(card)\n",
    "        \n",
    "def validate_card(i, card):\n",
    "    for k, v in card.items():\n",
    "        if v is None:\n",
    "            card[k] = ''\n",
    "    \n",
    "    print('WORD')\n",
    "    word = widgets.Text()\n",
    "    word.value = card['word']\n",
    "    display(word)\n",
    "    \n",
    "    print('SENSES')\n",
    "    senses = []\n",
    "    for text in card['senses']:\n",
    "        sense = widgets.Textarea()\n",
    "        sense.value = text\n",
    "        clear = widgets.Button(\n",
    "            value=False,\n",
    "            description='clear',\n",
    "            disabled=False,\n",
    "            button_style='', #, 'warning', 'danger' or ''\n",
    "            icon='check',\n",
    "            layout=widgets.Layout(width='7%', height='25px')\n",
    "        )\n",
    "        def clear_output(field):\n",
    "            def f(sender):\n",
    "                field.value = ''\n",
    "            return f\n",
    "        def clear_button(button):\n",
    "            def f(sender):\n",
    "                button.value = False\n",
    "            return f\n",
    "        clear.on_click(clear_output(sense))\n",
    "        sense.observe(clear_button(clear))\n",
    "        sense_box = widgets.HBox([sense, clear])\n",
    "        display(sense_box)\n",
    "        senses.append(sense)\n",
    "        \n",
    "    print('EXAMPLES')\n",
    "    examples = []\n",
    "    for text in card['examples']:\n",
    "        example = widgets.Textarea()\n",
    "        example.value = text\n",
    "        \n",
    "        clear = widgets.Button(\n",
    "            value=False,\n",
    "            description='clear',\n",
    "            disabled=False,\n",
    "            button_style='', #, 'warning', 'danger' or ''\n",
    "            icon='check',\n",
    "            layout=widgets.Layout(width='7%', height='25px')\n",
    "        )\n",
    "        def clear_output(field):\n",
    "            def f(sender):\n",
    "                field.value = ''\n",
    "            return f\n",
    "        def clear_button(button):\n",
    "            def f(sender):\n",
    "                button.value = False\n",
    "            return f\n",
    "        clear.on_click(clear_output(example))\n",
    "        example.observe(clear_button(clear))\n",
    "        example_box = widgets.HBox([example, clear])\n",
    "        display(example_box)\n",
    "        examples.append(example)\n",
    "       \n",
    "    def update_image(path):\n",
    "        imgfile = os.path.join(outdir, path)\n",
    "        if os.path.isfile(imgfile):\n",
    "            file = open(imgfile , \"rb\")\n",
    "            picture = file.read()\n",
    "            picture = widgets.Image(\n",
    "                value=picture,\n",
    "                format='png',\n",
    "                width=300,\n",
    "                height=400,\n",
    "            )\n",
    "            display(picture)\n",
    "            \n",
    "    def update_sound(path):\n",
    "        fname = os.path.join(outdir, path)\n",
    "        if os.path.isfile(fname):\n",
    "            d = ipd.Audio(fname)\n",
    "            display(d)\n",
    "        else:\n",
    "            print('url?', fname)\n",
    "            \n",
    "    print('IMAGE')\n",
    "    image = widgets.Text()\n",
    "    image.value = card['image']\n",
    "    display(image)    \n",
    "    update_image(image.value)\n",
    "   \n",
    "    print('SOUND')\n",
    "    ipa = widgets.Text()\n",
    "    ipa.value = card['ipa']\n",
    "    display(ipa)\n",
    "    sound = widgets.Text()\n",
    "    sound.value = card['pronounciation']\n",
    "    display(sound)    \n",
    "    update_sound(sound.value)\n",
    "    \n",
    "    good = widgets.Button(\n",
    "            value=False,\n",
    "            description='GOOD',\n",
    "            disabled=False,\n",
    "            button_style='success', #, 'warning', 'danger' or ''\n",
    "            icon='check',\n",
    "            layout=widgets.Layout(width='15%', height='50px')\n",
    "        )\n",
    "    skip = widgets.Button(\n",
    "            value=False,\n",
    "            description='SKIP',\n",
    "            disabled=False,\n",
    "            button_style='warning', #, 'warning', 'danger' or ''\n",
    "            icon='check',\n",
    "            layout=widgets.Layout(width='15%', height='50px')\n",
    "        )\n",
    "    exit = widgets.Button(\n",
    "            value=False,\n",
    "            description='EXIT',\n",
    "            disabled=False,\n",
    "            button_style='danger', #, 'warning', 'danger' or ''\n",
    "            icon='check',\n",
    "            layout=widgets.Layout(width='15%', height='50px')\n",
    "        )\n",
    "    \n",
    "    def show_next(i):\n",
    "        if i < len(cards):\n",
    "            validate_card(i, cards[i])\n",
    "        else:\n",
    "            print('NO MORE CARDS')\n",
    "            print('check files: ', deck_final_file, update_file, trouble_file)\n",
    "            \n",
    "    def get_updated_card_data():\n",
    "        card['word'] = word.value\n",
    "        card['senses'] = [sense.value for sense in senses if len(sense.value) > 0]\n",
    "        card['examples'] = [example.value for example in examples if len(example.value) > 0]\n",
    "        card['image'] = image.value\n",
    "        card['pronounciation'] = sound.value\n",
    "        card['ipa'] = ipa.value\n",
    "        return card\n",
    "    \n",
    "    def skip_f(sender):\n",
    "        card = get_updated_card_data()\n",
    "        with open(trouble_file, 'a') as f:\n",
    "            f.write(json.dumps(card, indent=4) + separator)\n",
    "        ipd.clear_output()\n",
    "        show_next(i+1)\n",
    "        \n",
    "    def good_f(sender):\n",
    "        card = get_updated_card_data()\n",
    "        with open(deck_final_file, 'a') as f:\n",
    "            f.write(json.dumps(card, indent=4) + separator)\n",
    "        with open(update_file, 'a') as f:\n",
    "            f.write(json.dumps(card, indent=4) + separator)\n",
    "        ipd.clear_output()\n",
    "        show_next(i+1)\n",
    "    \n",
    "    def exit_f(sender):\n",
    "        print('EXIT')\n",
    "        print('check files: ', deck_final_file, update_file, trouble_file)\n",
    "        \n",
    "    good.on_click(good_f)\n",
    "    skip.on_click(skip_f)\n",
    "    exit.on_click(exit_f)\n",
    "    nav_buttons = widgets.HBox([skip, good, exit])   \n",
    "    display(nav_buttons)\n",
    "        \n",
    "validate_card(0, cards[0])\n"
   ]
  },
  {
   "cell_type": "code",
   "execution_count": 66,
   "metadata": {
    "ExecuteTime": {
     "end_time": "2018-11-27T17:02:26.308599Z",
     "start_time": "2018-11-27T17:02:26.275420Z"
    },
    "code_folding": []
   },
   "outputs": [
    {
     "name": "stdout",
     "output_type": "stream",
     "text": [
      "CARDS 42\n",
      "Text 1\tPicture 2\tText 3\tSound 3\tText 4\n",
      "used to ask someone what they are thinking about\thttp://192.168.82.80:8000/a penny for your thoughts.jpg\ta penny for your thoughts||\thttp://192.168.82.80:8000/idioms_a_penny_for_your_thoughts_wpron.mp3\t(GB) So, a penny for your thoughts here: what criteria, if any, should be applied in selecting names?||(GB) Next time someone offers you a penny for your thoughts… sell!\n",
      "discuss matter without coming to point\thttp://192.168.82.80:8000/beat around the bush.jpg\tbeat around (or beat about) the bush||\thttp://192.168.82.80:8000/idioms_beat_around_the_bush_wpron.mp3\t(GB) Let's not beat about the bush, the sort of people who drop litter are the sort who do not usually give a damn about anybody or anything.||(GB) There is no need to beat about the bush when talking to children - you can be more direct with them than you might think.\n",
      "take on commitment one cannot fulfil\thttp://192.168.82.80:8000/bite off more than you can chew.jpeg\tbite off more than one can chew||\thttp://192.168.82.80:8000/idioms_bite_off_more_than_you_can_chew_wpron.mp3\tIf you're hoofing or riding roundtrip, don't bite off more than you can chew.||While biting off more than one can chew is arduous, the practice concept is necessary.\n",
      "get rid of pent-up energy or strong emotion\thttp://192.168.82.80:8000/blow off steamm.jpeg\tlet (or blow) off steam||\thttp://192.168.82.80:8000/idioms_blow_off_steam_wpron.mp3\t(GB) If your child is bursting with energy, let him run around to let off steam before moving on to more calming activities.||(GB) But many voters see the referendum as a chance to let off steam over what they regard as the government's economic policy failures.\n",
      "good luck !\thttp://192.168.82.80:8000/break a leg.jpeg\tbreak a leg!||\thttp://192.168.82.80:8000/idioms_break_a_leg_wpron.mp3\t‘Break a leg!’ I call after her.||Break a leg, and I'll join you on stage when you give the cue.\n",
      "do or say something to relieve tension\thttp://192.168.82.80:8000/break the ice.jpg\tbreak the ice||\thttp://192.168.82.80:8000/idioms_break_the_ice_wpron.mp3\tAlthough watching together broke the ice, the tension was still there.||And so the audience laughed and that kind of broke the ice.||If you understand a culture, you can break the ice in conversation, make a joke, or construct a speech better.\n",
      "by very narrow margin\thttp://192.168.82.80:8000/by the skin of teethh.jpeg\tby the skin of one's teeth||\thttp://192.168.82.80:8000/idioms_by_the_skin_of_teeth_wpron.mp3\tI only got away by the skin of my teeth||(GB) A Hampshire firefighter based at Redbridge Fire Station said: ‘They only got out by the skin of their teeth.’\n",
      "used with reference to two things that are fundamentally different\thttp://192.168.82.80:8000/comparing apples to oranges.png\tapples and oranges||\thttp://192.168.82.80:8000/idioms_comparing_apples_to_oranges_wpron.mp3\tIn your analysis, you are comparing apples and oranges.||I mean, we are really talking apples and oranges when we compare these religions.\n",
      "to force something into a small space, or to fill an area with people||study intensively just before examination\thttp://192.168.82.80:8000/cramm.jpeg\tcram||kræm\thttp://audio.oxforddictionaries.com/en/mp3/cram_us_1.mp3\tthe ashtray by the bed was crammed with cigarette butts||six children were crammed into the back of the car.||lectures were called off so students could cram for finals\n",
      "there is no point in regretting something which has already happened and cannot be changed or reversed\thttp://192.168.82.80:8000/don't cry over spilt milk.jpg\tit's no use crying over spilt (or spilled) milk||\thttp://192.168.82.80:8000/idioms_don't_cry_over_spilt_milk_wpron.mp3\t(GB) I guess it's no use crying over spilt milk, but I do remember feeling a sense of disappointment.\n",
      "with no illusions or pretensions\thttp://192.168.82.80:8000/down to earthh.jpg\tdown-to-earth||\thttp://192.168.82.80:8000/idioms_down_to_earth_wpron.mp3\ta down-to-earth view of marriage||All point to the author's sense of measure and humor, his down-to-earth view of himself.||(GB) She was a down-to-earth, witty, charming and an intelligent girl, highly articulate.\n",
      "share cost of something equally\thttp://192.168.82.80:8000/going dutchh.png\tgo dutch||\thttp://192.168.82.80:8000/idioms_going_dutch_wpron.mp3\tShe makes up for it by insisting on going Dutch on less formal occasions and making us dinner at her place fairly often.||I'll pay for it, or we'll go Dutch, if that offends your sensitivities.\n",
      "have other or more important matters to attend to\thttp://192.168.82.80:8000/he has bigger fish to fry.png\thave other (or bigger) fish to fry||\thttp://192.168.82.80:8000/idioms_he_has_bigger_fish_to_fry_wpron.mp3\tBut I think we have to put that anger and rage aside and wait until the appropriate time, because we have bigger fish to fry.||Its an old trick I learned a long time ago, sometime I'll teach you, but right now we have bigger fish to fry.\n",
      "someone who resembles their parent in character or appearance\thttp://192.168.82.80:8000/he's a chip off the old block.jpg\ta chip off the old block||\thttp://192.168.82.80:8000/idioms_he's_a_chip_off_the_old_block_wpron.mp3\tIs his son a chip off the old block in interest in international affairs?||Somebody looked at me, then at my father and decided, ‘He's a chip off the old block.’\n",
      "madly in love\thttp://192.168.82.80:8000/head over heelss.jpg\thead over heels||\thttp://192.168.82.80:8000/idioms_head_over_heels_wpron.mp3\tI immediately fell head over heels for Don||I fell head over heels in love with a wonderful man who I truthfully still love.\n",
      "go to bed\thttp://192.168.82.80:8000/hit the sack.jpg\thit the sack||\thttp://192.168.82.80:8000/idioms_hit_the_sack_wpron.mp3\tBy the time we hit the sack, it was after two in the morning.||I work so hard all day long that when I finally get to get upstairs, I'm ready to hit the sack or just settle in and read.\n",
      "To raise, increase, or accelerate; often said of prices, fees, or rates.\thttp://192.168.82.80:8000/jack up the pricess.jpg\tjack up ( the pricess )||ˈdʒækˌəp\thttp://audio.oxforddictionaries.com/en/mp3/jack_up_1_us_1.mp3\tI can't believe they're going to jack up the price of gasoline again — and after they already raised it twenty cents a gallon!\n",
      "be too slow to take advantage of opportunity\thttp://192.168.82.80:8000/miss the boat.png\tmiss the boat (or bus)||\thttp://192.168.82.80:8000/idioms_miss_the_boat_wpron.mp3\tLike many other aspects of the industry, they are missing the boat on technological advances that you all need to be a part of.||Because it is now so easy to work together virtually, not doing so is not only missing an opportunity, it is missing the boat.\n",
      "shift responsibility for something to someone else\thttp://192.168.82.80:8000/pass the buckk.jpg\tpass the buck||\thttp://192.168.82.80:8000/idioms_pass_the_buck_wpron.mp3\telected political leaders cannot pass the buck for crisis decisions to any alternative source of authority||Have you ever noticed, ironically, that the folks who spend so much time talking about ‘responsibility’ are usually the first to try to pass the buck?\n",
      "bout of eating large amount of food\thttp://192.168.82.80:8000/pig outt.jpeg\tpig-out||ˈpɪɡˌaʊt\thttp://audio.oxforddictionaries.com/en/mp3/pigout_us_1.mp3\tIt was like a three-month pig-out that made me better.||After all, Americans have been on a two-decade oil pig-out, gorging like oversized vacationers at a Vegas buffet.\n",
      "(in US) exercise right guaranteed by Fifth Amendment to Constitution of refusing to answer questions\thttp://192.168.82.80:8000/plead the fifthh.png\ttake (or plead) the Fifth||\thttp://192.168.82.80:8000/idioms_plead_the_fifth_wpron.mp3\tWhy is she taking the Fifth if she didn't do anything wrong?\n",
      "To postpone or delay acting on or interacting with a person\thttp://192.168.82.80:8000/put something on ice.jpg\tput something on ice||\thttp://192.168.82.80:8000/idioms_put_something_on_ice_wpron.mp3\tI know he keeps pestering you for an answer, but we'll just have to put him on ice until we have more facts to go on.|| Let's put this project on ice till we find out how well it's financed.\n",
      "frustrate someone by unexpectedly anticipating action or remark\thttp://192.168.82.80:8000/take the wind out of your sailss.jpg\ttake the wind out of someone's sails||\thttp://192.168.82.80:8000/idioms_take_the_wind_out_of_your_sails_wpron.mp3\tWhatever denial she was about to say make died as that little comment took the wind out of her sails.||Layoffs, breakups, accidents - any number of life events can take the wind out of your sails.||Maybe he spotted the wedding ring on my finger and that took the wind out of his sails, so he decided to tease me instead.\n",
      "show of intentional unfriendliness\thttp://192.168.82.80:8000/the cold shoulderr.jpeg\tgive someone the cold shoulder||\thttp://192.168.82.80:8000/idioms_the_cold_shoulder_wpron.mp3\twhy is even his own family giving him the cold shoulder?\n",
      "complete or conclude discussion or agreement\thttp://192.168.82.80:8000/wrap (something) upp.jpg\twrap something up||\thttp://192.168.82.80:8000/idioms_wrap_(something)_up_wpron.mp3\tthey hope to wrap up negotiations within sixty days||They wrap it up with some fascinating conclusions and five answers to ‘what to do and how to do it.’||But Washington is insisting that more negotiations are needed before the long-running dispute can be wrapped up.||(GB) Menigo said it was hoped the case would be wrapped up by June 25.\n",
      "outward appearances are not reliable indication of true character of person or thing\thttp://192.168.82.80:8000/you can't judge a book by its cover.jpg\tyou can't judge a book by its cover||\thttp://192.168.82.80:8000/idioms_you_can't_judge_a_book_by_its_cover_wpron.mp3\tGuess you can't judge a book by its cover after all.||(GB) Anyone who says you can't judge a book by its cover is an idiot.\n",
      "be pursuing mistaken or misguided line of thought\thttp://192.168.82.80:8000/barking up the wrong treee.jpg\tbe barking up the wrong tree||\thttp://192.168.82.80:8000/idioms_barking_up_the_wrong_tree_wpron.mp3\tPerhaps social critics are simply barking up the wrong tree.||But if you're - to tell you the truth, David, if you're thinking I care about this particular story, you're barking up the wrong tree.\n",
      "do something which makes it impossible to return to earlier state\thttp://192.168.82.80:8000/burn your bridgess.jpg\tburn one's bridges||\thttp://192.168.82.80:8000/idioms_burn_your_bridges_wpron.mp3\tIf you drop out of school now, you'll be burning your bridges behind you. You're too young to burn your bridges that way.||(GB) We're absolutely appalled; these people have burned their bridges with us for good.\n",
      "short sleep during day\thttp://192.168.82.80:8000/cat-napp.jpg\tcatnap||ˈkætˌnæp\thttp://audio.oxforddictionaries.com/en/mp3/catnap_us_1.mp3\tOver the years, she'd learned to function on three to four hours of sleep during a breaking story, taking a catnap here, forty-winks there.\n",
      "every difficult or sad situation has comforting or more hopeful aspect\thttp://192.168.82.80:8000/every cloud has a silver liningg.jpg\tevery cloud has a silver lining||\thttp://192.168.82.80:8000/idioms_every_cloud_has_a_silver_lining_wpron.mp3\tWell, here's the news that proves the maxim every cloud has a silver lining.||I tried to tell him to think of the good times, that every cloud has a silver lining.\n",
      "have or gain first introduction to profession or organization\thttp://192.168.82.80:8000/get one's foot in the doorr.jpg\thave (or get) a foot in the door||\thttp://192.168.82.80:8000/idioms_get_one's_foot_in_the_door_wpron.mp3\t(GB) Inexperienced candidates looking to get a foot in the door may have to work free.||(GB) Three times they've had a foot in the door to Super League - and three times it's been slammed in their faces.\n",
      "understanding of situation or event only after it has happened or developed\thttp://192.168.82.80:8000/hindsightt.jpeg\thindsight||ˈhaɪn(d)ˌsaɪt\thttp://audio.oxforddictionaries.com/en/mp3/hindsight_us_1.mp3\twith hindsight, I should never have gone||(GB) In hindsight this was already a fairly insensitive and stupid thing to do and almost entirely devoid of humour.\n",
      "both parties involved in situation or argument are equally responsible for it\thttp://192.168.82.80:8000/it takes two to tangoo.jpeg\tit takes two to tango||\thttp://192.168.82.80:8000/idioms_it_takes_two_to_tango_wpron.mp3\tI hadn't been all that easy to deal with, myself—it took two to tango||In a relationship, just as it takes two to tango, it takes two to heal.\n",
      "not aware of or concerned about what is happening around one\thttp://192.168.82.80:8000/obliviouss.jpg\toblivious||əˈblɪviəs\thttp://audio.oxforddictionaries.com/en/mp3/oblivious_us_1.mp3\tshe became absorbed, oblivious to the passage of time||the women were oblivious of his presence||(GB) Unbelievably, they can walk among their victims, oblivious to their humanity.\n",
      "very rarely\thttp://192.168.82.80:8000/once ina blue moonn.jpg\tonce in a blue moon||\thttp://192.168.82.80:8000/idioms_once_ina_blue_moon_wpron.mp3\the comes around once in a blue moon\n",
      "ride on someone's back and shoulders\thttp://192.168.82.80:8000/piggybackk.jpg\tpiggyback||ˈpɪɡiˌbæk\thttp://audio.oxforddictionaries.com/en/mp3/piggyback_us_1.mp3\tThe top carry handle also includes a 1/2-20 stud for piggyback camera mounting.||I suggested to my girlfriend that I give her a piggyback ride to the phone.||(GB) Now the younger monk was perturbed by his friend's conduct because their monastic code forbade them touching a woman, much less giving her a piggyback ride.\n",
      "you are in position to take opportunities that life has to offer\thttp://192.168.82.80:8000/the world is your oysterr.png\tthe world is your oyster||\thttp://192.168.82.80:8000/idioms_the_world_is_your_oyster_wpron.mp3\tIf you're traveling on your own, the world is your oyster.||(GB) Once you've completed your training you can begin to hone your creative talents, and the world is your oyster.\n",
      "two people should be left alone together\thttp://192.168.82.80:8000/two's company three's a crowdd.jpg\ttwo's company, three's a crowd||\thttp://192.168.82.80:8000/idioms_two's_company_three's_a_crowd_wpron.mp3\tImmortality is like the little brother tagging along when his big sister goes for a drive with a date, a light comedy motif in the movies of the forties, the erotic variant of two's company, three's a crowd.\n",
      "new and exciting experiences make life more interesting\thttp://192.168.82.80:8000/vairety is the spice of lifee.jpg\tvariety is the spice of life||\thttp://192.168.82.80:8000/idioms_vairety_is_the_spice_of_life_wpron.mp3\t(GB) You may have a passion for one kind of wine or another, but variety is the spice of life with wine, so shop around for different styles.\n",
      "used to refer to events that are in past\thttp://192.168.82.80:8000/water under the bridgee.jpg\twater under the bridge||\thttp://192.168.82.80:8000/idioms_water_under_the_bridge_wpron.mp3\tAs far as the bad blood goes, I think it should be water under the bridge.||But that's water under the bridge at this point.\n",
      "make one's feelings apparent\thttp://192.168.82.80:8000/wear your heart on your sleevee.jpg\twear one's heart on one's sleeve||\thttp://192.168.82.80:8000/idioms_wear_your_heart_on_your_sleeve_wpron.mp3\t(GB) I know he wears his heart on his sleeve and I know he's a good manager.||(GB) I showed my feelings and wore my heart on my sleeve.||(GB) He wears his heart on his sleeve and that's what we admire about him.\n",
      "consequences of one's actions will have to be dealt with eventually\thttp://192.168.82.80:8000/what goes around comes aroundd.jpg\twhat goes around comes around||\thttp://192.168.82.80:8000/idioms_what_goes_around_comes_around_wpron.mp3\t(GB) But although I strive daily to do the right thing - believing firmly in the karmic law that what goes around comes around - I've never, ever aspired to returning to earth as the Dalai Lama.\n"
     ]
    }
   ],
   "source": [
    "# upload outfolder on google drive\n",
    "ip = '192.168.82.80'\n",
    "addr = 'http://192.168.82.80:8000/'\n",
    "\n",
    "with open(deck_final_file) as f:\n",
    "    deck_data = [json.loads(s) for s in f.read().split(separator) if len(s) > 0]\n",
    "print('CARDS', len(deck_data))\n",
    "out_content = []\n",
    "\n",
    "headers = ['Text 1', 'Picture 2', 'Text 3', 'Sound 3', 'Text 4']\n",
    "out_content.append(headers)\n",
    "for card in deck_data:\n",
    "    img = card['image']\n",
    "    if '\\t' in img:\n",
    "        imgnew = img.replace('\\t', '')\n",
    "        if os.path.isfile(os.path.join(outdir, img)):\n",
    "            shutil.move(os.path.join(outdir, img), os.path.join(outdir, imgnew))\n",
    "        card['image'] = imgnew\n",
    "    line = ['||'.join(card['senses']), card['image'], \n",
    "            card['word'] + '||' + card['ipa'], card['pronounciation'], '||'.join(card['examples'])]\n",
    "    line = [l.strip() for l in line]\n",
    "    out_content.append(line)\n",
    "       \n",
    "indices = [i for i in range(len(headers)) if 'Picture' in headers[i] or 'Sound' in headers[i]]\n",
    "for idx, line in enumerate(out_content):\n",
    "    if idx > 0:\n",
    "        for i in indices:\n",
    "            if line[i].startswith('http') is False:\n",
    "                line[i] = addr + line[i]\n",
    "    print('\\t'.join(line))"
   ]
  },
  {
   "cell_type": "code",
   "execution_count": 67,
   "metadata": {
    "ExecuteTime": {
     "end_time": "2018-11-27T17:03:32.099261Z",
     "start_time": "2018-11-27T17:03:32.082826Z"
    }
   },
   "outputs": [
    {
     "name": "stdout",
     "output_type": "stream",
     "text": [
      "Text 1\tSound 1\tPicture 2\tText 3\tText 4\n",
      "a penny for your thoughts||\thttp://192.168.82.80:8000/idioms_a_penny_for_your_thoughts_wpron.mp3\thttp://192.168.82.80:8000/a penny for your thoughts.jpg\tused to ask someone what they are thinking about\t(GB) So, a penny for your thoughts here: what criteria, if any, should be applied in selecting names?||(GB) Next time someone offers you a penny for your thoughts… sell!\n",
      "beat around (or beat about) the bush||\thttp://192.168.82.80:8000/idioms_beat_around_the_bush_wpron.mp3\thttp://192.168.82.80:8000/beat around the bush.jpg\tdiscuss matter without coming to point\t(GB) Let's not beat about the bush, the sort of people who drop litter are the sort who do not usually give a damn about anybody or anything.||(GB) There is no need to beat about the bush when talking to children - you can be more direct with them than you might think.\n",
      "bite off more than one can chew||\thttp://192.168.82.80:8000/idioms_bite_off_more_than_you_can_chew_wpron.mp3\thttp://192.168.82.80:8000/bite off more than you can chew.jpeg\ttake on commitment one cannot fulfil\tIf you're hoofing or riding roundtrip, don't bite off more than you can chew.||While biting off more than one can chew is arduous, the practice concept is necessary.\n",
      "let (or blow) off steam||\thttp://192.168.82.80:8000/idioms_blow_off_steam_wpron.mp3\thttp://192.168.82.80:8000/blow off steamm.jpeg\tget rid of pent-up energy or strong emotion\t(GB) If your child is bursting with energy, let him run around to let off steam before moving on to more calming activities.||(GB) But many voters see the referendum as a chance to let off steam over what they regard as the government's economic policy failures.\n",
      "break a leg!||\thttp://192.168.82.80:8000/idioms_break_a_leg_wpron.mp3\thttp://192.168.82.80:8000/break a leg.jpeg\tgood luck !\t‘Break a leg!’ I call after her.||Break a leg, and I'll join you on stage when you give the cue.\n",
      "break the ice||\thttp://192.168.82.80:8000/idioms_break_the_ice_wpron.mp3\thttp://192.168.82.80:8000/break the ice.jpg\tdo or say something to relieve tension\tAlthough watching together broke the ice, the tension was still there.||And so the audience laughed and that kind of broke the ice.||If you understand a culture, you can break the ice in conversation, make a joke, or construct a speech better.\n",
      "by the skin of one's teeth||\thttp://192.168.82.80:8000/idioms_by_the_skin_of_teeth_wpron.mp3\thttp://192.168.82.80:8000/by the skin of teethh.jpeg\tby very narrow margin\tI only got away by the skin of my teeth||(GB) A Hampshire firefighter based at Redbridge Fire Station said: ‘They only got out by the skin of their teeth.’\n",
      "apples and oranges||\thttp://192.168.82.80:8000/idioms_comparing_apples_to_oranges_wpron.mp3\thttp://192.168.82.80:8000/comparing apples to oranges.png\tused with reference to two things that are fundamentally different\tIn your analysis, you are comparing apples and oranges.||I mean, we are really talking apples and oranges when we compare these religions.\n",
      "cram||kræm\thttp://audio.oxforddictionaries.com/en/mp3/cram_us_1.mp3\thttp://192.168.82.80:8000/cramm.jpeg\tto force something into a small space, or to fill an area with people||study intensively just before examination\tthe ashtray by the bed was crammed with cigarette butts||six children were crammed into the back of the car.||lectures were called off so students could cram for finals\n",
      "it's no use crying over spilt (or spilled) milk||\thttp://192.168.82.80:8000/idioms_don't_cry_over_spilt_milk_wpron.mp3\thttp://192.168.82.80:8000/don't cry over spilt milk.jpg\tthere is no point in regretting something which has already happened and cannot be changed or reversed\t(GB) I guess it's no use crying over spilt milk, but I do remember feeling a sense of disappointment.\n",
      "down-to-earth||\thttp://192.168.82.80:8000/idioms_down_to_earth_wpron.mp3\thttp://192.168.82.80:8000/down to earthh.jpg\twith no illusions or pretensions\ta down-to-earth view of marriage||All point to the author's sense of measure and humor, his down-to-earth view of himself.||(GB) She was a down-to-earth, witty, charming and an intelligent girl, highly articulate.\n",
      "go dutch||\thttp://192.168.82.80:8000/idioms_going_dutch_wpron.mp3\thttp://192.168.82.80:8000/going dutchh.png\tshare cost of something equally\tShe makes up for it by insisting on going Dutch on less formal occasions and making us dinner at her place fairly often.||I'll pay for it, or we'll go Dutch, if that offends your sensitivities.\n",
      "have other (or bigger) fish to fry||\thttp://192.168.82.80:8000/idioms_he_has_bigger_fish_to_fry_wpron.mp3\thttp://192.168.82.80:8000/he has bigger fish to fry.png\thave other or more important matters to attend to\tBut I think we have to put that anger and rage aside and wait until the appropriate time, because we have bigger fish to fry.||Its an old trick I learned a long time ago, sometime I'll teach you, but right now we have bigger fish to fry.\n",
      "a chip off the old block||\thttp://192.168.82.80:8000/idioms_he's_a_chip_off_the_old_block_wpron.mp3\thttp://192.168.82.80:8000/he's a chip off the old block.jpg\tsomeone who resembles their parent in character or appearance\tIs his son a chip off the old block in interest in international affairs?||Somebody looked at me, then at my father and decided, ‘He's a chip off the old block.’\n",
      "head over heels||\thttp://192.168.82.80:8000/idioms_head_over_heels_wpron.mp3\thttp://192.168.82.80:8000/head over heelss.jpg\tmadly in love\tI immediately fell head over heels for Don||I fell head over heels in love with a wonderful man who I truthfully still love.\n",
      "hit the sack||\thttp://192.168.82.80:8000/idioms_hit_the_sack_wpron.mp3\thttp://192.168.82.80:8000/hit the sack.jpg\tgo to bed\tBy the time we hit the sack, it was after two in the morning.||I work so hard all day long that when I finally get to get upstairs, I'm ready to hit the sack or just settle in and read.\n",
      "jack up ( the pricess )||ˈdʒækˌəp\thttp://audio.oxforddictionaries.com/en/mp3/jack_up_1_us_1.mp3\thttp://192.168.82.80:8000/jack up the pricess.jpg\tTo raise, increase, or accelerate; often said of prices, fees, or rates.\tI can't believe they're going to jack up the price of gasoline again — and after they already raised it twenty cents a gallon!\n",
      "miss the boat (or bus)||\thttp://192.168.82.80:8000/idioms_miss_the_boat_wpron.mp3\thttp://192.168.82.80:8000/miss the boat.png\tbe too slow to take advantage of opportunity\tLike many other aspects of the industry, they are missing the boat on technological advances that you all need to be a part of.||Because it is now so easy to work together virtually, not doing so is not only missing an opportunity, it is missing the boat.\n",
      "pass the buck||\thttp://192.168.82.80:8000/idioms_pass_the_buck_wpron.mp3\thttp://192.168.82.80:8000/pass the buckk.jpg\tshift responsibility for something to someone else\telected political leaders cannot pass the buck for crisis decisions to any alternative source of authority||Have you ever noticed, ironically, that the folks who spend so much time talking about ‘responsibility’ are usually the first to try to pass the buck?\n",
      "pig-out||ˈpɪɡˌaʊt\thttp://audio.oxforddictionaries.com/en/mp3/pigout_us_1.mp3\thttp://192.168.82.80:8000/pig outt.jpeg\tbout of eating large amount of food\tIt was like a three-month pig-out that made me better.||After all, Americans have been on a two-decade oil pig-out, gorging like oversized vacationers at a Vegas buffet.\n",
      "take (or plead) the Fifth||\thttp://192.168.82.80:8000/idioms_plead_the_fifth_wpron.mp3\thttp://192.168.82.80:8000/plead the fifthh.png\t(in US) exercise right guaranteed by Fifth Amendment to Constitution of refusing to answer questions\tWhy is she taking the Fifth if she didn't do anything wrong?\n",
      "put something on ice||\thttp://192.168.82.80:8000/idioms_put_something_on_ice_wpron.mp3\thttp://192.168.82.80:8000/put something on ice.jpg\tTo postpone or delay acting on or interacting with a person\tI know he keeps pestering you for an answer, but we'll just have to put him on ice until we have more facts to go on.|| Let's put this project on ice till we find out how well it's financed.\n",
      "take the wind out of someone's sails||\thttp://192.168.82.80:8000/idioms_take_the_wind_out_of_your_sails_wpron.mp3\thttp://192.168.82.80:8000/take the wind out of your sailss.jpg\tfrustrate someone by unexpectedly anticipating action or remark\tWhatever denial she was about to say make died as that little comment took the wind out of her sails.||Layoffs, breakups, accidents - any number of life events can take the wind out of your sails.||Maybe he spotted the wedding ring on my finger and that took the wind out of his sails, so he decided to tease me instead.\n",
      "give someone the cold shoulder||\thttp://192.168.82.80:8000/idioms_the_cold_shoulder_wpron.mp3\thttp://192.168.82.80:8000/the cold shoulderr.jpeg\tshow of intentional unfriendliness\twhy is even his own family giving him the cold shoulder?\n",
      "wrap something up||\thttp://192.168.82.80:8000/idioms_wrap_(something)_up_wpron.mp3\thttp://192.168.82.80:8000/wrap (something) upp.jpg\tcomplete or conclude discussion or agreement\tthey hope to wrap up negotiations within sixty days||They wrap it up with some fascinating conclusions and five answers to ‘what to do and how to do it.’||But Washington is insisting that more negotiations are needed before the long-running dispute can be wrapped up.||(GB) Menigo said it was hoped the case would be wrapped up by June 25.\n",
      "you can't judge a book by its cover||\thttp://192.168.82.80:8000/idioms_you_can't_judge_a_book_by_its_cover_wpron.mp3\thttp://192.168.82.80:8000/you can't judge a book by its cover.jpg\toutward appearances are not reliable indication of true character of person or thing\tGuess you can't judge a book by its cover after all.||(GB) Anyone who says you can't judge a book by its cover is an idiot.\n",
      "be barking up the wrong tree||\thttp://192.168.82.80:8000/idioms_barking_up_the_wrong_tree_wpron.mp3\thttp://192.168.82.80:8000/barking up the wrong treee.jpg\tbe pursuing mistaken or misguided line of thought\tPerhaps social critics are simply barking up the wrong tree.||But if you're - to tell you the truth, David, if you're thinking I care about this particular story, you're barking up the wrong tree.\n",
      "burn one's bridges||\thttp://192.168.82.80:8000/idioms_burn_your_bridges_wpron.mp3\thttp://192.168.82.80:8000/burn your bridgess.jpg\tdo something which makes it impossible to return to earlier state\tIf you drop out of school now, you'll be burning your bridges behind you. You're too young to burn your bridges that way.||(GB) We're absolutely appalled; these people have burned their bridges with us for good.\n",
      "catnap||ˈkætˌnæp\thttp://audio.oxforddictionaries.com/en/mp3/catnap_us_1.mp3\thttp://192.168.82.80:8000/cat-napp.jpg\tshort sleep during day\tOver the years, she'd learned to function on three to four hours of sleep during a breaking story, taking a catnap here, forty-winks there.\n",
      "every cloud has a silver lining||\thttp://192.168.82.80:8000/idioms_every_cloud_has_a_silver_lining_wpron.mp3\thttp://192.168.82.80:8000/every cloud has a silver liningg.jpg\tevery difficult or sad situation has comforting or more hopeful aspect\tWell, here's the news that proves the maxim every cloud has a silver lining.||I tried to tell him to think of the good times, that every cloud has a silver lining.\n",
      "have (or get) a foot in the door||\thttp://192.168.82.80:8000/idioms_get_one's_foot_in_the_door_wpron.mp3\thttp://192.168.82.80:8000/get one's foot in the doorr.jpg\thave or gain first introduction to profession or organization\t(GB) Inexperienced candidates looking to get a foot in the door may have to work free.||(GB) Three times they've had a foot in the door to Super League - and three times it's been slammed in their faces.\n",
      "hindsight||ˈhaɪn(d)ˌsaɪt\thttp://audio.oxforddictionaries.com/en/mp3/hindsight_us_1.mp3\thttp://192.168.82.80:8000/hindsightt.jpeg\tunderstanding of situation or event only after it has happened or developed\twith hindsight, I should never have gone||(GB) In hindsight this was already a fairly insensitive and stupid thing to do and almost entirely devoid of humour.\n",
      "it takes two to tango||\thttp://192.168.82.80:8000/idioms_it_takes_two_to_tango_wpron.mp3\thttp://192.168.82.80:8000/it takes two to tangoo.jpeg\tboth parties involved in situation or argument are equally responsible for it\tI hadn't been all that easy to deal with, myself—it took two to tango||In a relationship, just as it takes two to tango, it takes two to heal.\n",
      "oblivious||əˈblɪviəs\thttp://audio.oxforddictionaries.com/en/mp3/oblivious_us_1.mp3\thttp://192.168.82.80:8000/obliviouss.jpg\tnot aware of or concerned about what is happening around one\tshe became absorbed, oblivious to the passage of time||the women were oblivious of his presence||(GB) Unbelievably, they can walk among their victims, oblivious to their humanity.\n",
      "once in a blue moon||\thttp://192.168.82.80:8000/idioms_once_ina_blue_moon_wpron.mp3\thttp://192.168.82.80:8000/once ina blue moonn.jpg\tvery rarely\the comes around once in a blue moon\n",
      "piggyback||ˈpɪɡiˌbæk\thttp://audio.oxforddictionaries.com/en/mp3/piggyback_us_1.mp3\thttp://192.168.82.80:8000/piggybackk.jpg\tride on someone's back and shoulders\tThe top carry handle also includes a 1/2-20 stud for piggyback camera mounting.||I suggested to my girlfriend that I give her a piggyback ride to the phone.||(GB) Now the younger monk was perturbed by his friend's conduct because their monastic code forbade them touching a woman, much less giving her a piggyback ride.\n",
      "the world is your oyster||\thttp://192.168.82.80:8000/idioms_the_world_is_your_oyster_wpron.mp3\thttp://192.168.82.80:8000/the world is your oysterr.png\tyou are in position to take opportunities that life has to offer\tIf you're traveling on your own, the world is your oyster.||(GB) Once you've completed your training you can begin to hone your creative talents, and the world is your oyster.\n",
      "two's company, three's a crowd||\thttp://192.168.82.80:8000/idioms_two's_company_three's_a_crowd_wpron.mp3\thttp://192.168.82.80:8000/two's company three's a crowdd.jpg\ttwo people should be left alone together\tImmortality is like the little brother tagging along when his big sister goes for a drive with a date, a light comedy motif in the movies of the forties, the erotic variant of two's company, three's a crowd.\n",
      "variety is the spice of life||\thttp://192.168.82.80:8000/idioms_vairety_is_the_spice_of_life_wpron.mp3\thttp://192.168.82.80:8000/vairety is the spice of lifee.jpg\tnew and exciting experiences make life more interesting\t(GB) You may have a passion for one kind of wine or another, but variety is the spice of life with wine, so shop around for different styles.\n",
      "water under the bridge||\thttp://192.168.82.80:8000/idioms_water_under_the_bridge_wpron.mp3\thttp://192.168.82.80:8000/water under the bridgee.jpg\tused to refer to events that are in past\tAs far as the bad blood goes, I think it should be water under the bridge.||But that's water under the bridge at this point.\n",
      "wear one's heart on one's sleeve||\thttp://192.168.82.80:8000/idioms_wear_your_heart_on_your_sleeve_wpron.mp3\thttp://192.168.82.80:8000/wear your heart on your sleevee.jpg\tmake one's feelings apparent\t(GB) I know he wears his heart on his sleeve and I know he's a good manager.||(GB) I showed my feelings and wore my heart on my sleeve.||(GB) He wears his heart on his sleeve and that's what we admire about him.\n",
      "what goes around comes around||\thttp://192.168.82.80:8000/idioms_what_goes_around_comes_around_wpron.mp3\thttp://192.168.82.80:8000/what goes around comes aroundd.jpg\tconsequences of one's actions will have to be dealt with eventually\t(GB) But although I strive daily to do the right thing - believing firmly in the karmic law that what goes around comes around - I've never, ever aspired to returning to earth as the Dalai Lama.\n"
     ]
    }
   ],
   "source": [
    "out_content = []\n",
    "headers = ['Text 1', 'Sound 1', 'Picture 2', 'Text 3',  'Text 4']\n",
    "out_content.append(headers)\n",
    "\n",
    "for card in deck_data:\n",
    "    img = card['image']\n",
    "    if '\\t' in img:\n",
    "        imgnew = img.replace('\\t', '')\n",
    "        if os.path.isfile(os.path.join(outdir, img)):\n",
    "            shutil.move(os.path.join(outdir, img), os.path.join(outdir, imgnew))\n",
    "        card['image'] = imgnew\n",
    "    line = [card['word'] + '||' + card['ipa'], card['pronounciation'], card['image'], '||'.join(card['senses']), '||'.join(card['examples'])]\n",
    "    line = [l.strip() for l in line]\n",
    "    out_content.append(line)\n",
    "       \n",
    "indices = [i for i in range(len(headers)) if 'Picture' in headers[i] or 'Sound' in headers[i]]\n",
    "for idx, line in enumerate(out_content):\n",
    "    if idx > 0:\n",
    "        for i in indices:\n",
    "            if line[i].startswith('http') is False:\n",
    "                line[i] = addr + line[i]\n",
    "    print('\\t'.join(line))"
   ]
  }
 ],
 "metadata": {
  "kernelspec": {
   "display_name": "Python 3",
   "language": "python",
   "name": "python3"
  },
  "language_info": {
   "codemirror_mode": {
    "name": "ipython",
    "version": 3
   },
   "file_extension": ".py",
   "mimetype": "text/x-python",
   "name": "python",
   "nbconvert_exporter": "python",
   "pygments_lexer": "ipython3",
   "version": "3.6.5"
  },
  "varInspector": {
   "cols": {
    "lenName": 16,
    "lenType": 16,
    "lenVar": 40
   },
   "kernels_config": {
    "python": {
     "delete_cmd_postfix": "",
     "delete_cmd_prefix": "del ",
     "library": "var_list.py",
     "varRefreshCmd": "print(var_dic_list())"
    },
    "r": {
     "delete_cmd_postfix": ") ",
     "delete_cmd_prefix": "rm(",
     "library": "var_list.r",
     "varRefreshCmd": "cat(var_dic_list()) "
    }
   },
   "types_to_exclude": [
    "module",
    "function",
    "builtin_function_or_method",
    "instance",
    "_Feature"
   ],
   "window_display": false
  }
 },
 "nbformat": 4,
 "nbformat_minor": 2
}
